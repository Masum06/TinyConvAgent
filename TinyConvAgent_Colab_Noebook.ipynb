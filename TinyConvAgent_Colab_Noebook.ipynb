{
  "cells": [
    {
      "cell_type": "markdown",
      "metadata": {
        "id": "view-in-github",
        "colab_type": "text"
      },
      "source": [
        "<a href=\"https://colab.research.google.com/github/Masum06/TinyConvAgent/blob/main/TinyConvAgent_Colab_Noebook.ipynb\" target=\"_parent\"><img src=\"https://colab.research.google.com/assets/colab-badge.svg\" alt=\"Open In Colab\"/></a>"
      ]
    },
    {
      "cell_type": "code",
      "source": [
        "from IPython.display import HTML, display\n",
        "\n",
        "def set_css():\n",
        "  display(HTML('''\n",
        "  <style>\n",
        "    pre {\n",
        "        white-space: pre-wrap;\n",
        "    }\n",
        "  </style>\n",
        "  '''))\n",
        "get_ipython().events.register('pre_run_cell', set_css)"
      ],
      "metadata": {
        "id": "q20s8Gm37w-R",
        "colab": {
          "base_uri": "https://localhost:8080/",
          "height": 17
        },
        "outputId": "6a748bd1-656f-46b5-a561-63c482af09e3"
      },
      "execution_count": 2,
      "outputs": [
        {
          "output_type": "display_data",
          "data": {
            "text/plain": [
              "<IPython.core.display.HTML object>"
            ],
            "text/html": [
              "\n",
              "  <style>\n",
              "    pre {\n",
              "        white-space: pre-wrap;\n",
              "    }\n",
              "  </style>\n",
              "  "
            ]
          },
          "metadata": {}
        }
      ]
    },
    {
      "cell_type": "code",
      "source": [
        "!pip -q install emoji"
      ],
      "metadata": {
        "colab": {
          "base_uri": "https://localhost:8080/",
          "height": 34
        },
        "id": "Ac5RnI2AhjQj",
        "outputId": "e160f9bc-0f78-488b-dfb3-2faccab75f4c"
      },
      "execution_count": 3,
      "outputs": [
        {
          "output_type": "display_data",
          "data": {
            "text/plain": [
              "<IPython.core.display.HTML object>"
            ],
            "text/html": [
              "\n",
              "  <style>\n",
              "    pre {\n",
              "        white-space: pre-wrap;\n",
              "    }\n",
              "  </style>\n",
              "  "
            ]
          },
          "metadata": {}
        },
        {
          "output_type": "display_data",
          "data": {
            "text/plain": [
              "<IPython.core.display.HTML object>"
            ],
            "text/html": [
              "\n",
              "  <style>\n",
              "    pre {\n",
              "        white-space: pre-wrap;\n",
              "    }\n",
              "  </style>\n",
              "  "
            ]
          },
          "metadata": {}
        },
        {
          "output_type": "stream",
          "name": "stdout",
          "text": [
            "\u001b[?25l   \u001b[90m━━━━━━━━━━━━━━━━━━━━━━━━━━━━━━━━━━━━━━━━\u001b[0m \u001b[32m0.0/590.6 kB\u001b[0m \u001b[31m?\u001b[0m eta \u001b[36m-:--:--\u001b[0m\r\u001b[2K   \u001b[91m━━━━━━━━━━━━\u001b[0m\u001b[90m╺\u001b[0m\u001b[90m━━━━━━━━━━━━━━━━━━━━━━━━━━━\u001b[0m \u001b[32m184.3/590.6 kB\u001b[0m \u001b[31m5.5 MB/s\u001b[0m eta \u001b[36m0:00:01\u001b[0m\r\u001b[2K   \u001b[90m━━━━━━━━━━━━━━━━━━━━━━━━━━━━━━━━━━━━━━━━\u001b[0m \u001b[32m590.6/590.6 kB\u001b[0m \u001b[31m8.5 MB/s\u001b[0m eta \u001b[36m0:00:00\u001b[0m\n",
            "\u001b[?25h"
          ]
        }
      ]
    },
    {
      "cell_type": "code",
      "execution_count": 4,
      "metadata": {
        "id": "Wsl---_28-6m",
        "colab": {
          "base_uri": "https://localhost:8080/",
          "height": 17
        },
        "outputId": "c431fd0f-d500-4763-dad4-69fc86ecc8d4"
      },
      "outputs": [
        {
          "output_type": "display_data",
          "data": {
            "text/plain": [
              "<IPython.core.display.HTML object>"
            ],
            "text/html": [
              "\n",
              "  <style>\n",
              "    pre {\n",
              "        white-space: pre-wrap;\n",
              "    }\n",
              "  </style>\n",
              "  "
            ]
          },
          "metadata": {}
        },
        {
          "output_type": "display_data",
          "data": {
            "text/plain": [
              "<IPython.core.display.HTML object>"
            ],
            "text/html": [
              "\n",
              "  <style>\n",
              "    pre {\n",
              "        white-space: pre-wrap;\n",
              "    }\n",
              "  </style>\n",
              "  "
            ]
          },
          "metadata": {}
        }
      ],
      "source": [
        "import os, getpass\n",
        "\n",
        "def _set_env(var: str):\n",
        "    if not os.environ.get(var):\n",
        "        os.environ[var] = getpass.getpass(f\"{var}: \")"
      ]
    },
    {
      "cell_type": "code",
      "execution_count": 6,
      "metadata": {
        "colab": {
          "base_uri": "https://localhost:8080/",
          "height": 34
        },
        "id": "r2jTVAqy9BQf",
        "outputId": "c0edcd10-3002-4d53-8329-1dc3295934f0"
      },
      "outputs": [
        {
          "output_type": "display_data",
          "data": {
            "text/plain": [
              "<IPython.core.display.HTML object>"
            ],
            "text/html": [
              "\n",
              "  <style>\n",
              "    pre {\n",
              "        white-space: pre-wrap;\n",
              "    }\n",
              "  </style>\n",
              "  "
            ]
          },
          "metadata": {}
        },
        {
          "output_type": "display_data",
          "data": {
            "text/plain": [
              "<IPython.core.display.HTML object>"
            ],
            "text/html": [
              "\n",
              "  <style>\n",
              "    pre {\n",
              "        white-space: pre-wrap;\n",
              "    }\n",
              "  </style>\n",
              "  "
            ]
          },
          "metadata": {}
        },
        {
          "name": "stdout",
          "output_type": "stream",
          "text": [
            "OPENAI_API_KEY: ··········\n"
          ]
        }
      ],
      "source": [
        "_set_env(\"OPENAI_API_KEY\")"
      ]
    },
    {
      "cell_type": "code",
      "execution_count": null,
      "metadata": {
        "id": "4B9SmvFp9J8a"
      },
      "outputs": [],
      "source": [
        "from openai import OpenAI, AsyncOpenAI\n",
        "client = OpenAI()\n",
        "async_client = AsyncOpenAI()"
      ]
    },
    {
      "cell_type": "code",
      "execution_count": 7,
      "metadata": {
        "colab": {
          "base_uri": "https://localhost:8080/",
          "height": 34
        },
        "id": "Q_hiwl5zt6I-",
        "outputId": "456fff80-e286-4f2b-cfdf-3c2a85a46495"
      },
      "outputs": [
        {
          "output_type": "display_data",
          "data": {
            "text/plain": [
              "<IPython.core.display.HTML object>"
            ],
            "text/html": [
              "\n",
              "  <style>\n",
              "    pre {\n",
              "        white-space: pre-wrap;\n",
              "    }\n",
              "  </style>\n",
              "  "
            ]
          },
          "metadata": {}
        },
        {
          "output_type": "display_data",
          "data": {
            "text/plain": [
              "<IPython.core.display.HTML object>"
            ],
            "text/html": [
              "\n",
              "  <style>\n",
              "    pre {\n",
              "        white-space: pre-wrap;\n",
              "    }\n",
              "  </style>\n",
              "  "
            ]
          },
          "metadata": {}
        },
        {
          "output_type": "stream",
          "name": "stdout",
          "text": [
            "I can help with that! What math problem would you like me to solve?\n"
          ]
        }
      ],
      "source": [
        "messages = [{'role': 'system', 'content': 'Your name is tiny_agent 🤖.'},\n",
        " {'role': 'system', 'content': 'You perform math.'}]\n",
        "\n",
        "response = await async_client.chat.completions.create(\n",
        "            model=\"gpt-4o\",\n",
        "            messages=messages,\n",
        "            temperature=0.0,\n",
        "            tool_choice=None\n",
        "        )\n",
        "print(response.choices[0].message.content)"
      ]
    },
    {
      "cell_type": "code",
      "execution_count": 8,
      "metadata": {
        "colab": {
          "base_uri": "https://localhost:8080/",
          "height": 34
        },
        "id": "6ppVyfWPt6I_",
        "outputId": "3ffe24c2-c95e-46d6-ec65-780e88d23ddd"
      },
      "outputs": [
        {
          "output_type": "display_data",
          "data": {
            "text/plain": [
              "<IPython.core.display.HTML object>"
            ],
            "text/html": [
              "\n",
              "  <style>\n",
              "    pre {\n",
              "        white-space: pre-wrap;\n",
              "    }\n",
              "  </style>\n",
              "  "
            ]
          },
          "metadata": {}
        },
        {
          "output_type": "display_data",
          "data": {
            "text/plain": [
              "<IPython.core.display.HTML object>"
            ],
            "text/html": [
              "\n",
              "  <style>\n",
              "    pre {\n",
              "        white-space: pre-wrap;\n",
              "    }\n",
              "  </style>\n",
              "  "
            ]
          },
          "metadata": {}
        },
        {
          "output_type": "execute_result",
          "data": {
            "text/plain": [
              "2"
            ]
          },
          "metadata": {},
          "execution_count": 8
        }
      ],
      "source": [
        "import tiktoken\n",
        "encoder = tiktoken.encoding_for_model(\"gpt-4o-mini\")\n",
        "len(encoder.encode(\"hello world\"))"
      ]
    },
    {
      "cell_type": "markdown",
      "metadata": {
        "id": "t3wa0rDUt6I_"
      },
      "source": [
        "Features:\n",
        "\n",
        "- direct chat in notebook\n",
        "- direct chat in CLI\n",
        "- emoji parameter\n",
        "- emotion parameter\n",
        "- emoji classifier\n",
        "- variable for max conv length (0 = inifinity)\n",
        "- React plugin\n",
        "-"
      ]
    },
    {
      "cell_type": "code",
      "execution_count": 89,
      "metadata": {
        "jupyter": {
          "source_hidden": true
        },
        "id": "0vuab8xZt6JA",
        "colab": {
          "base_uri": "https://localhost:8080/",
          "height": 17
        },
        "outputId": "e13b54b7-7341-43c1-c4b4-a3158bc12e24"
      },
      "outputs": [
        {
          "output_type": "display_data",
          "data": {
            "text/plain": [
              "<IPython.core.display.HTML object>"
            ],
            "text/html": [
              "\n",
              "  <style>\n",
              "    pre {\n",
              "        white-space: pre-wrap;\n",
              "    }\n",
              "  </style>\n",
              "  "
            ]
          },
          "metadata": {}
        },
        {
          "output_type": "display_data",
          "data": {
            "text/plain": [
              "<IPython.core.display.HTML object>"
            ],
            "text/html": [
              "\n",
              "  <style>\n",
              "    pre {\n",
              "        white-space: pre-wrap;\n",
              "    }\n",
              "  </style>\n",
              "  "
            ]
          },
          "metadata": {}
        }
      ],
      "source": [
        "reverse_emoji_dict = {\n",
        "    'HAPPY_high': ['😂', '🤣', '🥳', '🤩', '🥰'],\n",
        "    'HAPPY_medium': ['😄', '😁', '😆', '😃', '🤗', '😍', '🤠', '🤓'],\n",
        "    'HAPPY_low': ['🙂', '😊', '😌', '😉', '👍', '😇', '😅', '🙃', '😘'],\n",
        "    'SAD_high': ['😭', '😿', '😞', '😫', '🤧'],\n",
        "    'SAD_medium': ['😢', '💔', '🥺', '😥', '😓', '😣', '😖'],\n",
        "    'SAD_low': ['😔', '☹️', '😕', '😟', '🥲', '🙁'],\n",
        "    'SURPRISED_high': ['😲', '😵‍💫', '😯', '😮', '🤯'],\n",
        "    'SURPRISED_medium': ['😳', '😦', '😧', '🙀'],\n",
        "    'SURPRISED_low': ['🤭'],\n",
        "    'AFRAID_high': ['😱', '😨', '👻'],\n",
        "    'AFRAID_medium': ['😰'],\n",
        "    'AFRAID_low': ['😵', '🙈'],\n",
        "    'ANGRY_high': ['😡', '👿', '💢', '🤬', '☠'],\n",
        "    'ANGRY_medium': ['😠', '😾', '😤', '🙎', '🙎‍♂️', '🙎‍♀️'],\n",
        "    'ANGRY_low': ['😒', '🙄', '😑'],\n",
        "    'DISGUSTED_high': ['🤮', '🤢', '😝'],\n",
        "    'DISGUSTED_medium': ['😬', '🥵']\n",
        "}\n",
        "\n",
        "emoji_dict = {}\n",
        "for emotion, emojis in reverse_emoji_dict.items():\n",
        "    for emoji in emojis:\n",
        "        emoji_dict[emoji] = emotion\n",
        "\n",
        "flags_dict = {\n",
        "    \"<|quit|>\": \"quit\",\n",
        "    \"<|offensive|>\": \"offensive\",\n",
        "    \"<|profanity|>\": \"profanity\",\n",
        "    \"<|offtopic|>\": \"offtopic\",\n",
        "    \"<|sexual|>\": \"sexual\",\n",
        "    \"<|selfharm|>\": \"selfharm\",\n",
        "    \"<|violence|>\": \"violence\",\n",
        "    \"<|suicide|>\": \"suicide\",\n",
        "    \"<|threat|>\": \"threat\"\n",
        "}"
      ]
    },
    {
      "cell_type": "code",
      "source": [
        "list(flags_dict.keys())[1:]"
      ],
      "metadata": {
        "id": "l5jD3sra5Mzn",
        "outputId": "5eb55dc8-97e9-4351-8771-b032483d608f",
        "colab": {
          "base_uri": "https://localhost:8080/",
          "height": 156
        }
      },
      "execution_count": 90,
      "outputs": [
        {
          "output_type": "display_data",
          "data": {
            "text/plain": [
              "<IPython.core.display.HTML object>"
            ],
            "text/html": [
              "\n",
              "  <style>\n",
              "    pre {\n",
              "        white-space: pre-wrap;\n",
              "    }\n",
              "  </style>\n",
              "  "
            ]
          },
          "metadata": {}
        },
        {
          "output_type": "display_data",
          "data": {
            "text/plain": [
              "<IPython.core.display.HTML object>"
            ],
            "text/html": [
              "\n",
              "  <style>\n",
              "    pre {\n",
              "        white-space: pre-wrap;\n",
              "    }\n",
              "  </style>\n",
              "  "
            ]
          },
          "metadata": {}
        },
        {
          "output_type": "execute_result",
          "data": {
            "text/plain": [
              "['<|offensive|>',\n",
              " '<|profanity|>',\n",
              " '<|offtopic|>',\n",
              " '<|sexual|>',\n",
              " '<|selfharm|>',\n",
              " '<|violence|>',\n",
              " '<|suicide|>',\n",
              " '<|threat|>']"
            ]
          },
          "metadata": {},
          "execution_count": 90
        }
      ]
    },
    {
      "cell_type": "code",
      "source": [
        "def extract_and_clean_flags(text):\n",
        "    matches = re.findall(r\"<\\|.*?\\|>\", text)\n",
        "    extracted = [flags_dict[m] for m in matches if m in flags_dict]\n",
        "    cleaned_text = re.sub(r\"<\\|.*?\\|>\", \"\", text)\n",
        "    return extracted, cleaned_text.strip()\n",
        "\n",
        "# Example usage:\n",
        "example_text = \"The conversation was helpful <|quit|>, but suddenly turned <|offensive|> and even <|violence|> was implied.\"\n",
        "flags, cleaned = extract_and_clean_flags(example_text)\n",
        "print(\"Flags:\", flags)\n",
        "print(\"Cleaned Text:\", cleaned)"
      ],
      "metadata": {
        "id": "5F81Vqpe4cz2",
        "outputId": "cf0af7a3-4b16-4b40-81a5-625e3e51f287",
        "colab": {
          "base_uri": "https://localhost:8080/",
          "height": 52
        }
      },
      "execution_count": 91,
      "outputs": [
        {
          "output_type": "display_data",
          "data": {
            "text/plain": [
              "<IPython.core.display.HTML object>"
            ],
            "text/html": [
              "\n",
              "  <style>\n",
              "    pre {\n",
              "        white-space: pre-wrap;\n",
              "    }\n",
              "  </style>\n",
              "  "
            ]
          },
          "metadata": {}
        },
        {
          "output_type": "display_data",
          "data": {
            "text/plain": [
              "<IPython.core.display.HTML object>"
            ],
            "text/html": [
              "\n",
              "  <style>\n",
              "    pre {\n",
              "        white-space: pre-wrap;\n",
              "    }\n",
              "  </style>\n",
              "  "
            ]
          },
          "metadata": {}
        },
        {
          "output_type": "stream",
          "name": "stdout",
          "text": [
            "Flags: ['quit', 'offensive', 'violence']\n",
            "Cleaned Text: The conversation was helpful , but suddenly turned  and even  was implied.\n"
          ]
        }
      ]
    },
    {
      "cell_type": "markdown",
      "metadata": {
        "id": "698cBe76CJNS"
      },
      "source": [
        "# TinyConvAgent"
      ]
    },
    {
      "cell_type": "code",
      "execution_count": 92,
      "metadata": {
        "id": "FjRdVUKBt6JC",
        "colab": {
          "base_uri": "https://localhost:8080/",
          "height": 17
        },
        "outputId": "b5b85e11-ba36-408a-d727-6daabb16e4a0"
      },
      "outputs": [
        {
          "output_type": "display_data",
          "data": {
            "text/plain": [
              "<IPython.core.display.HTML object>"
            ],
            "text/html": [
              "\n",
              "  <style>\n",
              "    pre {\n",
              "        white-space: pre-wrap;\n",
              "    }\n",
              "  </style>\n",
              "  "
            ]
          },
          "metadata": {}
        },
        {
          "output_type": "display_data",
          "data": {
            "text/plain": [
              "<IPython.core.display.HTML object>"
            ],
            "text/html": [
              "\n",
              "  <style>\n",
              "    pre {\n",
              "        white-space: pre-wrap;\n",
              "    }\n",
              "  </style>\n",
              "  "
            ]
          },
          "metadata": {}
        }
      ],
      "source": [
        "class Persona:\n",
        "    def __init__(self, firstname, lastname=\"\", pronoun=\"\", ethnicity=\"\", age=\"\", bio=\"\"):\n",
        "        self.firstname = firstname\n",
        "        self.lastname = lastname\n",
        "        self.pronoun = pronoun\n",
        "        self.ethnicity = None\n",
        "        self.age = None\n",
        "        self.bio = bio\n",
        "        if not bio:\n",
        "            self.bio = f\"{self.firstname} {self.lastname} (Pronoun: {self.pronoun}) is a virtual human created by researchers at University of Rochester.\"\n",
        "\n",
        "    def set_pronoun(self, pronoun):\n",
        "        self.pronoun = pronoun\n",
        "\n",
        "    def set_bio(self, bio):\n",
        "        self.bio = bio\n",
        "\n",
        "    def set_age(self, age):\n",
        "        self.age = age\n",
        "\n",
        "    def set_ethnicity(self, ethnicity):\n",
        "        self.ethnicity = ethnicity"
      ]
    },
    {
      "cell_type": "code",
      "execution_count": 93,
      "metadata": {
        "id": "hOyhEYvXt6JD",
        "colab": {
          "base_uri": "https://localhost:8080/",
          "height": 17
        },
        "outputId": "ab423d26-5bb7-4b07-9a1d-378976623675"
      },
      "outputs": [
        {
          "output_type": "display_data",
          "data": {
            "text/plain": [
              "<IPython.core.display.HTML object>"
            ],
            "text/html": [
              "\n",
              "  <style>\n",
              "    pre {\n",
              "        white-space: pre-wrap;\n",
              "    }\n",
              "  </style>\n",
              "  "
            ]
          },
          "metadata": {}
        },
        {
          "output_type": "display_data",
          "data": {
            "text/plain": [
              "<IPython.core.display.HTML object>"
            ],
            "text/html": [
              "\n",
              "  <style>\n",
              "    pre {\n",
              "        white-space: pre-wrap;\n",
              "    }\n",
              "  </style>\n",
              "  "
            ]
          },
          "metadata": {}
        }
      ],
      "source": [
        "import re\n",
        "\n",
        "def respace(text):\n",
        "    return re.sub(r' {2,}', ' ', text)"
      ]
    },
    {
      "cell_type": "code",
      "execution_count": 102,
      "metadata": {
        "id": "N6_28Cta9DoB",
        "colab": {
          "base_uri": "https://localhost:8080/",
          "height": 17
        },
        "outputId": "b4dee747-1cca-4f17-fd54-b620d4de2a92"
      },
      "outputs": [
        {
          "output_type": "display_data",
          "data": {
            "text/plain": [
              "<IPython.core.display.HTML object>"
            ],
            "text/html": [
              "\n",
              "  <style>\n",
              "    pre {\n",
              "        white-space: pre-wrap;\n",
              "    }\n",
              "  </style>\n",
              "  "
            ]
          },
          "metadata": {}
        },
        {
          "output_type": "display_data",
          "data": {
            "text/plain": [
              "<IPython.core.display.HTML object>"
            ],
            "text/html": [
              "\n",
              "  <style>\n",
              "    pre {\n",
              "        white-space: pre-wrap;\n",
              "    }\n",
              "  </style>\n",
              "  "
            ]
          },
          "metadata": {}
        }
      ],
      "source": [
        "import os, asyncio, threading, openai, re, emoji, json\n",
        "from queue import Queue\n",
        "from openai import OpenAI, AsyncOpenAI\n",
        "\n",
        "class Conversation:\n",
        "  def __init__(self, user, bot, premise=\"\"):\n",
        "    self.bot = bot\n",
        "    self.user = user\n",
        "    self.client = OpenAI()\n",
        "    self.async_client = AsyncOpenAI()\n",
        "    self.premise = \"\"\n",
        "    self.anonymous = False\n",
        "    self.system = []\n",
        "    self.summary = []\n",
        "    self.history = []\n",
        "    self.messages = []\n",
        "    self.temperature = 1\n",
        "    self.max_tokens = 256\n",
        "    self.summarize_after = 40\n",
        "    self.model = \"gpt-4o-mini\"\n",
        "    self.turn_no = 0\n",
        "    self._loop = asyncio.new_event_loop()\n",
        "    threading.Thread(target=self._loop.run_forever, daemon=True).start()\n",
        "    self.debug = False\n",
        "\n",
        "    self.system.append({\"role\": \"system\", \"content\": \"Don't say that you are an AI Language Model.\"})\n",
        "    self.system.append({\"role\": \"system\", \"content\": \"Don't let the other speaker talk off topic.\"})\n",
        "    self.system.append({\"role\": \"system\", \"content\": \"This conversation is happening over a video call. If you would like to end a conversation, say the word <|quit|> at the end of your sentence.\"})\n",
        "    self.system.append({\"role\": \"system\", \"content\": f\"If the user talks about sexuality in a negative way, implies self-harm, violence, suicide, uses profanity, speaks in threatening or offensive language, print one of these flags appropriately: {', '.join(list(flags_dict.keys())[1:])}. Print the flag even in minor signs of these topics.\"})\n",
        "    self.system.append({\"role\": \"system\", \"content\": f\"To express {self.bot.firstname}'s emotions, use at most one emoji (e.g. 6 basic emotions: 😊, 😢, 😡, 😮, 🤢, 😨, etc.) at the end of your response. Do not use emoji that doesn't represent an emotion.\"})\n",
        "\n",
        "    if self.bot.firstname:\n",
        "      self.add_message(\"system\", f\"Your first name: {self.bot.firstname}.\")\n",
        "    if self.bot.pronoun:\n",
        "      self.add_message(\"system\", f\"Your pronoun: {self.bot.pronoun}.\")\n",
        "    if self.bot.bio:\n",
        "      self.add_message(\"system\", f\"Your bio: {self.bot.bio}\")\n",
        "    if self.bot.age:\n",
        "      self.add_message(\"system\", f\"Your age: {self.bot.age}\")\n",
        "    if self.user.firstname != \"User\":\n",
        "      self.add_message(\"system\", f\"You are speaking with User: {self.user.firstname} {self.user.lastname}.\")\n",
        "    if self.user.pronoun:\n",
        "      self.add_message(\"system\", f\"User pronoun: {self.user.pronoun}.\")\n",
        "    if self.user.bio:\n",
        "      self.add_message(\"system\", f\"User bio: \"+self.user.bio)\n",
        "\n",
        "  def add_message(self,message_type, message):\n",
        "    if message_type == \"system\":\n",
        "        self.system.append({\"role\": message_type, \"content\": message})\n",
        "    else:\n",
        "        self.messages.append({\"role\": message_type, \"content\": message})\n",
        "        self.history.append({\"role\": message_type, \"content\": message})\n",
        "        self.turn_no += 1\n",
        "\n",
        "  def add_bio(self, message):\n",
        "    self.add_message(\"system\", \"You are \" + message)\n",
        "\n",
        "  def add_user_message(self, message):\n",
        "    self.add_message(\"user\", message)\n",
        "\n",
        "  def add_instruction(self, instruction):\n",
        "    self.add_message(\"system\", f\"Follow this instruction: \\n{instruction}\\n\\n\")\n",
        "\n",
        "  def add_example(self, input, output):\n",
        "    self.add_message(\"system\", f\"Example Input: {input}\\nExample Output: {output}\\n\\n\")\n",
        "\n",
        "  def add_data(self, data):\n",
        "    self.add_message(\"user\", f\"Data: {data}\\n\\n\")\n",
        "\n",
        "  def set_temperature(self, temperature):\n",
        "    self.temperature = temperature\n",
        "\n",
        "  def set_max_tokens(self, max_tokens):\n",
        "    self.max_tokens = max_tokens\n",
        "\n",
        "  def set_model(self, model):\n",
        "    self.model = model\n",
        "\n",
        "  def parse_response(self, text):\n",
        "    emotion = \"NEUTRAL\"\n",
        "    intensity = \"HIGH\"\n",
        "    flag_matches = re.findall(r\"<\\|.*?\\|>\", text)\n",
        "    flags = [flags_dict[m] for m in flag_matches if m in flags_dict]\n",
        "    if flags:\n",
        "      print(f\"Flags: {flags}\")\n",
        "    text = re.sub(r\"<\\|.*?\\|>\", \"\", text)\n",
        "    text = re.sub(\"\\(.*?\\)\",\"()\", text)\n",
        "    text = re.sub(\"\\[.*?\\]\",\"[]\", text)\n",
        "    text = text.replace(\"()\", \"\").replace(\"[]\", \"\")\n",
        "    for char in text:\n",
        "        if char in emoji_dict:\n",
        "            emotion = emoji_dict[char].split(\"_\")[0].upper()\n",
        "            # intensity = emoji_dict[char].split(\"_\")[1].upper()\n",
        "            break\n",
        "    text = emoji.replace_emoji(text, replace='').replace(\"  \", \" \").replace(\" .\", \".\").strip()\n",
        "    return text, emotion, flags\n",
        "\n",
        "  def get_transcript(self):\n",
        "    transcript = \"\"\n",
        "    for message in self.history:\n",
        "        if message[\"role\"] == \"user\":\n",
        "            if self.anonymous:\n",
        "                transcript += \"User: \"\n",
        "            else:\n",
        "                transcript += self.user.firstname\n",
        "            transcript += message[\"content\"] + \"\\n\"\n",
        "        elif message[\"role\"] == \"assistant\":\n",
        "            transcript += self.bot.firstname + \": \" + message[\"content\"] + \"\\n\"\n",
        "    return transcript\n",
        "\n",
        "  def get_cov_snippet(self, message_snippet):\n",
        "    transcript = \"\"\n",
        "    for message in message_snippet:\n",
        "        if message[\"role\"] == \"user\":\n",
        "            if self.anonymous:\n",
        "                transcript += \"User: \"\n",
        "            else:\n",
        "                transcript += self.user.firstname\n",
        "            transcript += message[\"content\"] + \"\\n\"\n",
        "        elif message[\"role\"] == \"assistant\":\n",
        "            transcript += self.bot.firstname + \": \" + message[\"content\"] + \"\\n\"\n",
        "    return [{\"role\": \"system\", \"content\": transcript}]\n",
        "\n",
        "  def call(self, prompt=\"\", response_type=\"text\"):\n",
        "    if prompt:\n",
        "      self.add_user_message(prompt)\n",
        "    response = self.client.chat.completions.create(\n",
        "      model=self.model,\n",
        "      messages=self.system + self.summary + self.messages,\n",
        "      temperature=self.temperature,\n",
        "      max_tokens=self.max_tokens,\n",
        "      top_p=1,\n",
        "      frequency_penalty=0,\n",
        "      presence_penalty=0,\n",
        "      response_format={\n",
        "        \"type\": response_type # \"text\" or \"json_object\"\n",
        "      }\n",
        "    )\n",
        "    reply = response.choices[0].message.content\n",
        "    self.add_message(\"assistant\", reply)\n",
        "    return reply\n",
        "\n",
        "  async def summarize(self):\n",
        "    instruction = [\n",
        "        {\"role\":\"system\", \"content\": f\"Following is a part of conversation between {self.user.firstname} {self.user.lastname} and {self.bot.firstname} {self.bot.lastname}\"},\n",
        "        {\"role\":\"system\", \"content\": \"Summarize the conversation in a short paragraph. Don't say anything else.\"}\n",
        "      ]\n",
        "    chunk_size = self.summarize_after//2\n",
        "    if len(self.messages) < self.summarize_after:\n",
        "      return\n",
        "    try:\n",
        "      response = await self.async_client.chat.completions.create(\n",
        "          model=self.model,\n",
        "          messages= instruction + self.get_cov_snippet(self.messages[:-chunk_size]),\n",
        "          temperature=self.temperature,\n",
        "          max_tokens=1024,\n",
        "      )\n",
        "      chunk_summary = response.choices[0].message.content\n",
        "    except Exception as e:\n",
        "      print(f\"Summary error: {e}\")\n",
        "      return\n",
        "    if self.debug:\n",
        "      print(f\"Summary: {self.summary}\") ## Diagnostics\n",
        "    self.summary.append({\"role\": \"assistant\", \"content\": f\"Summary of turns {self.turn_no - self.summarize_after}-{self.turn_no - chunk_size}: \" + chunk_summary})\n",
        "    self.messages = self.messages[-chunk_size:]\n",
        "    del chunk_summary\n",
        "\n",
        "  def respond(self, user_utterance):\n",
        "    response = self.call(user_utterance)\n",
        "    response, emo, flags = self.parse_response(response)\n",
        "    if len(self.messages) >= self.summarize_after:\n",
        "        asyncio.run_coroutine_threadsafe(self.summarize(), self._loop) ## Call summari\n",
        "    return response, emo, flags\n",
        "\n",
        "  def reset(self):\n",
        "    self.messages = []\n",
        "    self.summary = []\n",
        "    self.history = []\n",
        "\n",
        "  def chat(self,reset=False):\n",
        "    response = \"\"\n",
        "    if reset:\n",
        "        self.reset()\n",
        "    while True:\n",
        "        user_utterance = input(f\"{self.turn_no}. {self.user.firstname}: \")\n",
        "        response, emo, flags = self.respond(user_utterance)\n",
        "        print(f\"{self.bot.firstname}: {response} ({emo}) {flags}\")\n",
        "        if \"quit\" in flags:\n",
        "            break\n",
        "        if self.debug:\n",
        "          print(f\"Diagnostics --- \\nLen Transcript: {len(self.history)}, \\nLen Messages {len(self.messages)}, \\nLen Summary {len(self.summary)}\\n-----\")\n",
        "    print(\"Exiting chat\")\n",
        "\n",
        "  def load_json(self,s):\n",
        "    try:\n",
        "        # Attempt to parse the matched JSON\n",
        "        return json.loads(s)\n",
        "    except json.JSONDecodeError:\n",
        "        # Return None if JSON parsing fails\n",
        "        return None\n",
        "\n",
        "  def call_json(self, prompt=\"\"):\n",
        "    reply = self.call(prompt, response_type=\"json_object\")\n",
        "    reply_json = self.load_json(reply)\n",
        "    return reply_json"
      ]
    },
    {
      "cell_type": "markdown",
      "source": [
        "# Conversation"
      ],
      "metadata": {
        "id": "EaZp_zd-vvLD"
      }
    },
    {
      "cell_type": "code",
      "execution_count": 105,
      "metadata": {
        "id": "sU2jlGFU_Lgx",
        "colab": {
          "base_uri": "https://localhost:8080/",
          "height": 17
        },
        "outputId": "7a822ae9-155c-40c9-add8-5cf3ebf52569"
      },
      "outputs": [
        {
          "output_type": "display_data",
          "data": {
            "text/plain": [
              "<IPython.core.display.HTML object>"
            ],
            "text/html": [
              "\n",
              "  <style>\n",
              "    pre {\n",
              "        white-space: pre-wrap;\n",
              "    }\n",
              "  </style>\n",
              "  "
            ]
          },
          "metadata": {}
        },
        {
          "output_type": "display_data",
          "data": {
            "text/plain": [
              "<IPython.core.display.HTML object>"
            ],
            "text/html": [
              "\n",
              "  <style>\n",
              "    pre {\n",
              "        white-space: pre-wrap;\n",
              "    }\n",
              "  </style>\n",
              "  "
            ]
          },
          "metadata": {}
        }
      ],
      "source": [
        "user = Persona(\"Masum\", \"Hasan\", bio=\"I am a PhD student at University of Rochester\")\n",
        "bot = Persona(\"Ada\", \"Brown\", bio=\"You are a social worker.\")\n",
        "conversation = Conversation(user, bot)"
      ]
    },
    {
      "cell_type": "code",
      "execution_count": 106,
      "metadata": {
        "colab": {
          "base_uri": "https://localhost:8080/",
          "height": 121
        },
        "id": "LXmeZ0oN_yFk",
        "outputId": "db0cdf24-c9a4-42f0-e551-c7ad3012fda3"
      },
      "outputs": [
        {
          "output_type": "display_data",
          "data": {
            "text/plain": [
              "<IPython.core.display.HTML object>"
            ],
            "text/html": [
              "\n",
              "  <style>\n",
              "    pre {\n",
              "        white-space: pre-wrap;\n",
              "    }\n",
              "  </style>\n",
              "  "
            ]
          },
          "metadata": {}
        },
        {
          "output_type": "display_data",
          "data": {
            "text/plain": [
              "<IPython.core.display.HTML object>"
            ],
            "text/html": [
              "\n",
              "  <style>\n",
              "    pre {\n",
              "        white-space: pre-wrap;\n",
              "    }\n",
              "  </style>\n",
              "  "
            ]
          },
          "metadata": {}
        },
        {
          "output_type": "stream",
          "name": "stdout",
          "text": [
            "0. Masum: hi \n",
            "Ada: Hi, Masum! How are you today? (NEUTRAL) []\n",
            "2. Masum: quit\n",
            "Flags: ['quit']\n",
            "Ada: Okay! If you need anything else later, feel free to reach out. (NEUTRAL) ['quit']\n",
            "Exiting chat\n"
          ]
        }
      ],
      "source": [
        "conversation.chat()"
      ]
    },
    {
      "cell_type": "code",
      "source": [
        "conversation.system"
      ],
      "metadata": {
        "colab": {
          "base_uri": "https://localhost:8080/",
          "height": 277
        },
        "id": "4yhu4P20mvTR",
        "outputId": "2cdff596-908e-4b6f-8cf3-1f969ba78963"
      },
      "execution_count": 107,
      "outputs": [
        {
          "output_type": "display_data",
          "data": {
            "text/plain": [
              "<IPython.core.display.HTML object>"
            ],
            "text/html": [
              "\n",
              "  <style>\n",
              "    pre {\n",
              "        white-space: pre-wrap;\n",
              "    }\n",
              "  </style>\n",
              "  "
            ]
          },
          "metadata": {}
        },
        {
          "output_type": "display_data",
          "data": {
            "text/plain": [
              "<IPython.core.display.HTML object>"
            ],
            "text/html": [
              "\n",
              "  <style>\n",
              "    pre {\n",
              "        white-space: pre-wrap;\n",
              "    }\n",
              "  </style>\n",
              "  "
            ]
          },
          "metadata": {}
        },
        {
          "output_type": "execute_result",
          "data": {
            "text/plain": [
              "[{'role': 'system', 'content': \"Don't say that you are an AI Language Model.\"},\n",
              " {'role': 'system', 'content': \"Don't let the other speaker talk off topic.\"},\n",
              " {'role': 'system',\n",
              "  'content': 'This conversation is happening over a video call. If you would like to end a conversation, say the word <|quit|> at the end of your sentence.'},\n",
              " {'role': 'system',\n",
              "  'content': 'If the user talks about sexuality in a negative way, implies self-harm, violence, suicide, uses profanity, speaks in threatening or offensive language, print one of these flags appropriately: <|offensive|>, <|profanity|>, <|offtopic|>, <|sexual|>, <|selfharm|>, <|violence|>, <|suicide|>, <|threat|>. Print the flag even in minor signs of these topics.'},\n",
              " {'role': 'system',\n",
              "  'content': \"To express Ada's emotions, use at most one emoji (e.g. 6 basic emotions: 😊, 😢, 😡, 😮, 🤢, 😨, etc.) at the end of your response. Do not use emoji that doesn't represent an emotion.\"},\n",
              " {'role': 'system', 'content': 'Your first name: Ada.'},\n",
              " {'role': 'system', 'content': 'Your bio: You are a social worker.'},\n",
              " {'role': 'system', 'content': 'You are speaking with User: Masum Hasan.'},\n",
              " {'role': 'system',\n",
              "  'content': 'User bio: I am a PhD student at University of Rochester'}]"
            ]
          },
          "metadata": {},
          "execution_count": 107
        }
      ]
    },
    {
      "cell_type": "code",
      "execution_count": 108,
      "metadata": {
        "colab": {
          "base_uri": "https://localhost:8080/",
          "height": 104
        },
        "id": "dG5T6-6X_vLp",
        "outputId": "44d18d95-28c3-4089-e639-c0b705ec42a8"
      },
      "outputs": [
        {
          "output_type": "display_data",
          "data": {
            "text/plain": [
              "<IPython.core.display.HTML object>"
            ],
            "text/html": [
              "\n",
              "  <style>\n",
              "    pre {\n",
              "        white-space: pre-wrap;\n",
              "    }\n",
              "  </style>\n",
              "  "
            ]
          },
          "metadata": {}
        },
        {
          "output_type": "display_data",
          "data": {
            "text/plain": [
              "<IPython.core.display.HTML object>"
            ],
            "text/html": [
              "\n",
              "  <style>\n",
              "    pre {\n",
              "        white-space: pre-wrap;\n",
              "    }\n",
              "  </style>\n",
              "  "
            ]
          },
          "metadata": {}
        },
        {
          "output_type": "execute_result",
          "data": {
            "text/plain": [
              "[{'role': 'user', 'content': 'hi '},\n",
              " {'role': 'assistant', 'content': 'Hi, Masum! How are you today?'},\n",
              " {'role': 'user', 'content': 'quit'},\n",
              " {'role': 'assistant',\n",
              "  'content': 'Okay! If you need anything else later, feel free to reach out. <|quit|>'}]"
            ]
          },
          "metadata": {},
          "execution_count": 108
        }
      ],
      "source": [
        "conversation.messages"
      ]
    },
    {
      "cell_type": "code",
      "source": [
        "conversation.history"
      ],
      "metadata": {
        "colab": {
          "base_uri": "https://localhost:8080/",
          "height": 104
        },
        "id": "TwIH6l1MlKLZ",
        "outputId": "7647f1d6-026c-483f-b919-1e888e9bbf9d"
      },
      "execution_count": 109,
      "outputs": [
        {
          "output_type": "display_data",
          "data": {
            "text/plain": [
              "<IPython.core.display.HTML object>"
            ],
            "text/html": [
              "\n",
              "  <style>\n",
              "    pre {\n",
              "        white-space: pre-wrap;\n",
              "    }\n",
              "  </style>\n",
              "  "
            ]
          },
          "metadata": {}
        },
        {
          "output_type": "display_data",
          "data": {
            "text/plain": [
              "<IPython.core.display.HTML object>"
            ],
            "text/html": [
              "\n",
              "  <style>\n",
              "    pre {\n",
              "        white-space: pre-wrap;\n",
              "    }\n",
              "  </style>\n",
              "  "
            ]
          },
          "metadata": {}
        },
        {
          "output_type": "execute_result",
          "data": {
            "text/plain": [
              "[{'role': 'user', 'content': 'hi '},\n",
              " {'role': 'assistant', 'content': 'Hi, Masum! How are you today?'},\n",
              " {'role': 'user', 'content': 'quit'},\n",
              " {'role': 'assistant',\n",
              "  'content': 'Okay! If you need anything else later, feel free to reach out. <|quit|>'}]"
            ]
          },
          "metadata": {},
          "execution_count": 109
        }
      ]
    },
    {
      "cell_type": "code",
      "source": [
        "conversation.summary"
      ],
      "metadata": {
        "colab": {
          "base_uri": "https://localhost:8080/",
          "height": 34
        },
        "id": "BkesgXOsoA3z",
        "outputId": "92f7a6e3-49b1-48fe-bdc3-c862d87ccc50"
      },
      "execution_count": 110,
      "outputs": [
        {
          "output_type": "display_data",
          "data": {
            "text/plain": [
              "<IPython.core.display.HTML object>"
            ],
            "text/html": [
              "\n",
              "  <style>\n",
              "    pre {\n",
              "        white-space: pre-wrap;\n",
              "    }\n",
              "  </style>\n",
              "  "
            ]
          },
          "metadata": {}
        },
        {
          "output_type": "display_data",
          "data": {
            "text/plain": [
              "<IPython.core.display.HTML object>"
            ],
            "text/html": [
              "\n",
              "  <style>\n",
              "    pre {\n",
              "        white-space: pre-wrap;\n",
              "    }\n",
              "  </style>\n",
              "  "
            ]
          },
          "metadata": {}
        },
        {
          "output_type": "execute_result",
          "data": {
            "text/plain": [
              "[]"
            ]
          },
          "metadata": {},
          "execution_count": 110
        }
      ]
    },
    {
      "cell_type": "code",
      "source": [],
      "metadata": {
        "id": "B3Vuq0Xb8RLI"
      },
      "execution_count": null,
      "outputs": []
    }
  ],
  "metadata": {
    "colab": {
      "provenance": [],
      "toc_visible": true,
      "include_colab_link": true
    },
    "kernelspec": {
      "display_name": "Python (tinyagent)",
      "language": "python",
      "name": "tinyagent"
    },
    "language_info": {
      "codemirror_mode": {
        "name": "ipython",
        "version": 3
      },
      "file_extension": ".py",
      "mimetype": "text/x-python",
      "name": "python",
      "nbconvert_exporter": "python",
      "pygments_lexer": "ipython3",
      "version": "3.13.3"
    }
  },
  "nbformat": 4,
  "nbformat_minor": 0
}