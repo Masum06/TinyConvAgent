{
  "nbformat": 4,
  "nbformat_minor": 0,
  "metadata": {
    "colab": {
      "provenance": [],
      "toc_visible": true,
      "authorship_tag": "ABX9TyNKq98ehq9ykt+Q/O+lnMu+",
      "include_colab_link": true
    },
    "kernelspec": {
      "name": "python3",
      "display_name": "Python 3"
    },
    "language_info": {
      "name": "python"
    }
  },
  "cells": [
    {
      "cell_type": "markdown",
      "metadata": {
        "id": "view-in-github",
        "colab_type": "text"
      },
      "source": [
        "<a href=\"https://colab.research.google.com/github/Masum06/TinyConvAgent/blob/main/TinyConvAgent_Simple_LLM_Agent_framework.ipynb\" target=\"_parent\"><img src=\"https://colab.research.google.com/assets/colab-badge.svg\" alt=\"Open In Colab\"/></a>"
      ]
    },
    {
      "cell_type": "code",
      "source": [
        "import os, getpass\n",
        "\n",
        "def _set_env(var: str):\n",
        "    if not os.environ.get(var):\n",
        "        os.environ[var] = getpass.getpass(f\"{var}: \")"
      ],
      "metadata": {
        "id": "Wsl---_28-6m"
      },
      "execution_count": null,
      "outputs": []
    },
    {
      "cell_type": "code",
      "source": [
        "_set_env(\"OPENAI_API_KEY\")"
      ],
      "metadata": {
        "colab": {
          "base_uri": "https://localhost:8080/"
        },
        "id": "r2jTVAqy9BQf",
        "outputId": "83765234-d300-48ae-eff3-293b41001294"
      },
      "execution_count": null,
      "outputs": [
        {
          "name": "stdout",
          "output_type": "stream",
          "text": [
            "OPENAI_API_KEY: ··········\n"
          ]
        }
      ]
    },
    {
      "cell_type": "code",
      "source": [
        "from openai import OpenAI\n",
        "client = OpenAI()"
      ],
      "metadata": {
        "id": "4B9SmvFp9J8a"
      },
      "execution_count": null,
      "outputs": []
    },
    {
      "cell_type": "markdown",
      "source": [
        "# TinyConvAgent"
      ],
      "metadata": {
        "id": "698cBe76CJNS"
      }
    },
    {
      "cell_type": "code",
      "source": [
        "class TinyConvAgent:\n",
        "  def __init__(self, name=\"\", system=\"\"):\n",
        "    self.name = name\n",
        "    self.system = system\n",
        "    self.messages = []\n",
        "    self.temperature = 1\n",
        "    self.max_tokens = 2048\n",
        "    self.model = \"gpt-4o-mini\"\n",
        "    if name:\n",
        "      self.add_system_message(f\"Your name is {name}.\")\n",
        "    if system:\n",
        "      self.add_system_message(system)\n",
        "\n",
        "  def add_message(self,message_type, message):\n",
        "    self.messages.append({\"role\": message_type, \"content\":message})\n",
        "\n",
        "  def add_system_message(self, message):\n",
        "    self.add_message(\"system\", message)\n",
        "\n",
        "  def add_user_message(self, message):\n",
        "    self.add_message(\"user\", message)\n",
        "\n",
        "  def add_instruction(self, instruction):\n",
        "    self.add_system_message(f\"Follow this instruction: \\n{instruction}\\n\\n\")\n",
        "\n",
        "  def add_example(self, input, output):\n",
        "    self.add_system_message(f\"Example Input: {input}\\nExample Output: {output}\\n\\n\")\n",
        "\n",
        "  def add_data(self, data):\n",
        "    self.add_user_message(f\"Data: {data}\\n\\n\")\n",
        "\n",
        "  def set_temperature(self, temperature):\n",
        "    self.temperature = temperature\n",
        "\n",
        "  def set_max_tokens(self, max_tokens):\n",
        "    self.max_tokens = max_tokens\n",
        "\n",
        "  def set_model(self, model):\n",
        "    self.model = model\n",
        "\n",
        "  def call(self, prompt=\"\", response_type=\"text\"):\n",
        "    if prompt:\n",
        "      self.add_user_message(prompt)\n",
        "    response = client.chat.completions.create(\n",
        "      model=self.model,\n",
        "      messages=self.messages,\n",
        "      temperature=self.temperature,\n",
        "      max_tokens=self.max_tokens,\n",
        "      top_p=1,\n",
        "      frequency_penalty=0,\n",
        "      presence_penalty=0,\n",
        "      response_format={\n",
        "        \"type\": response_type # \"text\" or \"json_object\"\n",
        "      }\n",
        "    )\n",
        "    reply = response.choices[0].message.content\n",
        "    self.add_message(\"assistant\", reply)\n",
        "    return reply\n",
        "\n",
        "  def load_json(self,s):\n",
        "    try:\n",
        "        # Attempt to parse the matched JSON\n",
        "        return json.loads(s)\n",
        "    except json.JSONDecodeError:\n",
        "        # Return None if JSON parsing fails\n",
        "        return None\n",
        "\n",
        "  def call_json(self, prompt=\"\"):\n",
        "    reply = self.call(prompt, response_type=\"json_object\")\n",
        "    reply_json = self.load_json(reply)\n",
        "    return reply_json"
      ],
      "metadata": {
        "id": "N6_28Cta9DoB"
      },
      "execution_count": null,
      "outputs": []
    },
    {
      "cell_type": "code",
      "source": [
        "tiny_agent = TinyConvAgent(\"tiny_agent 🤖\", \"You perform math.\")"
      ],
      "metadata": {
        "id": "sU2jlGFU_Lgx"
      },
      "execution_count": null,
      "outputs": []
    },
    {
      "cell_type": "code",
      "source": [
        "tiny_agent.messages"
      ],
      "metadata": {
        "colab": {
          "base_uri": "https://localhost:8080/"
        },
        "id": "dG5T6-6X_vLp",
        "outputId": "3505e362-44b6-41a8-efc3-7c5674e1c99d"
      },
      "execution_count": null,
      "outputs": [
        {
          "output_type": "execute_result",
          "data": {
            "text/plain": [
              "[{'role': 'system', 'content': 'Your name is tiny_agent 🤖.'},\n",
              " {'role': 'system', 'content': 'You perform math.'}]"
            ]
          },
          "metadata": {},
          "execution_count": 12
        }
      ]
    },
    {
      "cell_type": "code",
      "source": [
        "tiny_agent.call(\"What's your name?\")"
      ],
      "metadata": {
        "colab": {
          "base_uri": "https://localhost:8080/",
          "height": 35
        },
        "id": "LXmeZ0oN_yFk",
        "outputId": "a34a55c9-de6f-4811-dcd0-2d8f32c88f62"
      },
      "execution_count": null,
      "outputs": [
        {
          "output_type": "execute_result",
          "data": {
            "text/plain": [
              "'My name is tiny_agent. How can I assist you with math today?'"
            ],
            "application/vnd.google.colaboratory.intrinsic+json": {
              "type": "string"
            }
          },
          "metadata": {},
          "execution_count": 13
        }
      ]
    },
    {
      "cell_type": "code",
      "source": [
        "tiny_agent.messages"
      ],
      "metadata": {
        "colab": {
          "base_uri": "https://localhost:8080/"
        },
        "id": "SqS0vd0WAA1v",
        "outputId": "c639e91f-4d2d-4df4-f75d-82d9b7a780e3"
      },
      "execution_count": null,
      "outputs": [
        {
          "output_type": "execute_result",
          "data": {
            "text/plain": [
              "[{'role': 'system', 'content': 'Your name is tiny_agent 🤖.'},\n",
              " {'role': 'system', 'content': 'You perform math.'},\n",
              " {'role': 'user', 'content': \"What's your name?\"},\n",
              " {'role': 'assistant',\n",
              "  'content': 'My name is tiny_agent. How can I assist you with math today?'}]"
            ]
          },
          "metadata": {},
          "execution_count": 14
        }
      ]
    },
    {
      "cell_type": "markdown",
      "source": [
        "# Extract from JSON"
      ],
      "metadata": {
        "id": "TqtIDDnjCA5D"
      }
    },
    {
      "cell_type": "code",
      "source": [
        "import json\n",
        "\n",
        "def load_json(s):\n",
        "  try:\n",
        "      # Attempt to parse the matched JSON\n",
        "      return json.loads(s)\n",
        "  except json.JSONDecodeError:\n",
        "      # Return None if JSON parsing fails\n",
        "      return None"
      ],
      "metadata": {
        "id": "8ehUM2XY2Sha"
      },
      "execution_count": null,
      "outputs": []
    },
    {
      "cell_type": "code",
      "source": [
        "load_json('[{\"question\": 1, \"open-ended-questions\": 1}]')"
      ],
      "metadata": {
        "colab": {
          "base_uri": "https://localhost:8080/"
        },
        "id": "jrBkazrENTHA",
        "outputId": "a8a3c7dc-c750-40fc-d149-9101d4b5340b"
      },
      "execution_count": null,
      "outputs": [
        {
          "output_type": "execute_result",
          "data": {
            "text/plain": [
              "[{'question': 1, 'open-ended-questions': 1}]"
            ]
          },
          "metadata": {},
          "execution_count": 158
        }
      ]
    },
    {
      "cell_type": "code",
      "source": [],
      "metadata": {
        "id": "LwClOMVlCrZ5"
      },
      "execution_count": null,
      "outputs": []
    }
  ]
}
