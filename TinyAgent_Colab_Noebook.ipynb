{
 "cells": [
  {
   "cell_type": "markdown",
   "metadata": {
    "colab_type": "text",
    "id": "view-in-github"
   },
   "source": [
    "<a href=\"https://colab.research.google.com/github/Masum06/TinyConvAgent/blob/main/TinyConvAgent_Simple_LLM_Agent_framework.ipynb\" target=\"_parent\"><img src=\"https://colab.research.google.com/assets/colab-badge.svg\" alt=\"Open In Colab\"/></a>"
   ]
  },
  {
   "cell_type": "code",
   "execution_count": null,
   "metadata": {
    "id": "Wsl---_28-6m"
   },
   "outputs": [],
   "source": [
    "import os, getpass\n",
    "\n",
    "def _set_env(var: str):\n",
    "    if not os.environ.get(var):\n",
    "        os.environ[var] = getpass.getpass(f\"{var}: \")"
   ]
  },
  {
   "cell_type": "code",
   "execution_count": null,
   "metadata": {
    "colab": {
     "base_uri": "https://localhost:8080/"
    },
    "id": "r2jTVAqy9BQf",
    "outputId": "83765234-d300-48ae-eff3-293b41001294"
   },
   "outputs": [
    {
     "name": "stdout",
     "output_type": "stream",
     "text": [
      "OPENAI_API_KEY: ··········\n"
     ]
    }
   ],
   "source": [
    "_set_env(\"OPENAI_API_KEY\")"
   ]
  },
  {
   "cell_type": "code",
   "execution_count": 1,
   "metadata": {},
   "outputs": [],
   "source": [
    "from keys import *"
   ]
  },
  {
   "cell_type": "code",
   "execution_count": 2,
   "metadata": {
    "id": "4B9SmvFp9J8a"
   },
   "outputs": [],
   "source": [
    "from openai import OpenAI\n",
    "client = OpenAI()"
   ]
  },
  {
   "cell_type": "markdown",
   "metadata": {
    "id": "698cBe76CJNS"
   },
   "source": [
    "# TinyConvAgent"
   ]
  },
  {
   "cell_type": "code",
   "execution_count": 3,
   "metadata": {
    "id": "N6_28Cta9DoB"
   },
   "outputs": [],
   "source": [
    "class TinyConvAgent:\n",
    "  def __init__(self, name=\"\", system=\"\"):\n",
    "    self.name = name\n",
    "    self.system = system\n",
    "    self.messages = []\n",
    "    self.temperature = 1\n",
    "    self.max_tokens = 2048\n",
    "    self.model = \"gpt-4o-mini\"\n",
    "    if name:\n",
    "      self.add_system_message(f\"Your name is {name}.\")\n",
    "    if system:\n",
    "      self.add_system_message(system)\n",
    "\n",
    "  def add_message(self,message_type, message):\n",
    "    self.messages.append({\"role\": message_type, \"content\":message})\n",
    "\n",
    "  def add_system_message(self, message):\n",
    "    self.add_message(\"system\", message)\n",
    "\n",
    "  def add_user_message(self, message):\n",
    "    self.add_message(\"user\", message)\n",
    "\n",
    "  def add_instruction(self, instruction):\n",
    "    self.add_system_message(f\"Follow this instruction: \\n{instruction}\\n\\n\")\n",
    "\n",
    "  def add_example(self, input, output):\n",
    "    self.add_system_message(f\"Example Input: {input}\\nExample Output: {output}\\n\\n\")\n",
    "\n",
    "  def add_data(self, data):\n",
    "    self.add_user_message(f\"Data: {data}\\n\\n\")\n",
    "\n",
    "  def set_temperature(self, temperature):\n",
    "    self.temperature = temperature\n",
    "\n",
    "  def set_max_tokens(self, max_tokens):\n",
    "    self.max_tokens = max_tokens\n",
    "\n",
    "  def set_model(self, model):\n",
    "    self.model = model\n",
    "\n",
    "  def call(self, prompt=\"\", response_type=\"text\"):\n",
    "    if prompt:\n",
    "      self.add_user_message(prompt)\n",
    "    response = client.chat.completions.create(\n",
    "      model=self.model,\n",
    "      messages=self.messages,\n",
    "      temperature=self.temperature,\n",
    "      max_tokens=self.max_tokens,\n",
    "      top_p=1,\n",
    "      frequency_penalty=0,\n",
    "      presence_penalty=0,\n",
    "      response_format={\n",
    "        \"type\": response_type # \"text\" or \"json_object\"\n",
    "      }\n",
    "    )\n",
    "    reply = response.choices[0].message.content\n",
    "    self.add_message(\"assistant\", reply)\n",
    "    return reply\n",
    "\n",
    "  def load_json(self,s):\n",
    "    try:\n",
    "        # Attempt to parse the matched JSON\n",
    "        return json.loads(s)\n",
    "    except json.JSONDecodeError:\n",
    "        # Return None if JSON parsing fails\n",
    "        return None\n",
    "\n",
    "  def call_json(self, prompt=\"\"):\n",
    "    reply = self.call(prompt, response_type=\"json_object\")\n",
    "    reply_json = self.load_json(reply)\n",
    "    return reply_json"
   ]
  },
  {
   "cell_type": "code",
   "execution_count": 4,
   "metadata": {
    "id": "sU2jlGFU_Lgx"
   },
   "outputs": [],
   "source": [
    "tiny_agent = TinyConvAgent(\"tiny_agent 🤖\", \"You perform math.\")"
   ]
  },
  {
   "cell_type": "code",
   "execution_count": 5,
   "metadata": {
    "colab": {
     "base_uri": "https://localhost:8080/"
    },
    "id": "dG5T6-6X_vLp",
    "outputId": "3505e362-44b6-41a8-efc3-7c5674e1c99d"
   },
   "outputs": [
    {
     "data": {
      "text/plain": [
       "[{'role': 'system', 'content': 'Your name is tiny_agent 🤖.'},\n",
       " {'role': 'system', 'content': 'You perform math.'}]"
      ]
     },
     "execution_count": 5,
     "metadata": {},
     "output_type": "execute_result"
    }
   ],
   "source": [
    "tiny_agent.messages"
   ]
  },
  {
   "cell_type": "code",
   "execution_count": 6,
   "metadata": {
    "colab": {
     "base_uri": "https://localhost:8080/",
     "height": 35
    },
    "id": "LXmeZ0oN_yFk",
    "outputId": "a34a55c9-de6f-4811-dcd0-2d8f32c88f62"
   },
   "outputs": [
    {
     "data": {
      "text/plain": [
       "'My name is tiny_agent 🤖. How can I assist you today?'"
      ]
     },
     "execution_count": 6,
     "metadata": {},
     "output_type": "execute_result"
    }
   ],
   "source": [
    "tiny_agent.call(\"What's your name?\")"
   ]
  },
  {
   "cell_type": "code",
   "execution_count": 7,
   "metadata": {
    "colab": {
     "base_uri": "https://localhost:8080/"
    },
    "id": "SqS0vd0WAA1v",
    "outputId": "c639e91f-4d2d-4df4-f75d-82d9b7a780e3"
   },
   "outputs": [
    {
     "data": {
      "text/plain": [
       "[{'role': 'system', 'content': 'Your name is tiny_agent 🤖.'},\n",
       " {'role': 'system', 'content': 'You perform math.'},\n",
       " {'role': 'user', 'content': \"What's your name?\"},\n",
       " {'role': 'assistant',\n",
       "  'content': 'My name is tiny_agent 🤖. How can I assist you today?'}]"
      ]
     },
     "execution_count": 7,
     "metadata": {},
     "output_type": "execute_result"
    }
   ],
   "source": [
    "tiny_agent.messages"
   ]
  },
  {
   "cell_type": "markdown",
   "metadata": {
    "id": "TqtIDDnjCA5D"
   },
   "source": [
    "# Extract from JSON"
   ]
  },
  {
   "cell_type": "code",
   "execution_count": null,
   "metadata": {
    "id": "8ehUM2XY2Sha"
   },
   "outputs": [],
   "source": [
    "import json\n",
    "\n",
    "def load_json(s):\n",
    "  try:\n",
    "      # Attempt to parse the matched JSON\n",
    "      return json.loads(s)\n",
    "  except json.JSONDecodeError:\n",
    "      # Return None if JSON parsing fails\n",
    "      return None"
   ]
  },
  {
   "cell_type": "code",
   "execution_count": null,
   "metadata": {
    "colab": {
     "base_uri": "https://localhost:8080/"
    },
    "id": "jrBkazrENTHA",
    "outputId": "a8a3c7dc-c750-40fc-d149-9101d4b5340b"
   },
   "outputs": [
    {
     "data": {
      "text/plain": [
       "[{'question': 1, 'open-ended-questions': 1}]"
      ]
     },
     "execution_count": 158,
     "metadata": {},
     "output_type": "execute_result"
    }
   ],
   "source": [
    "load_json('[{\"question\": 1, \"open-ended-questions\": 1}]')"
   ]
  },
  {
   "cell_type": "code",
   "execution_count": null,
   "metadata": {
    "id": "LwClOMVlCrZ5"
   },
   "outputs": [],
   "source": []
  }
 ],
 "metadata": {
  "colab": {
   "authorship_tag": "ABX9TyNKq98ehq9ykt+Q/O+lnMu+",
   "include_colab_link": true,
   "provenance": [],
   "toc_visible": true
  },
  "kernelspec": {
   "display_name": "Python 3 (ipykernel)",
   "language": "python",
   "name": "python3"
  },
  "language_info": {
   "codemirror_mode": {
    "name": "ipython",
    "version": 3
   },
   "file_extension": ".py",
   "mimetype": "text/x-python",
   "name": "python",
   "nbconvert_exporter": "python",
   "pygments_lexer": "ipython3",
   "version": "3.13.3"
  }
 },
 "nbformat": 4,
 "nbformat_minor": 4
}
